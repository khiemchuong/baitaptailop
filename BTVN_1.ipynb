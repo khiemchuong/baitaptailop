{
  "nbformat": 4,
  "nbformat_minor": 0,
  "metadata": {
    "colab": {
      "provenance": [],
      "authorship_tag": "ABX9TyMxDGHVUl5rIqIK4uBUGaS2",
      "include_colab_link": true
    },
    "kernelspec": {
      "name": "python3",
      "display_name": "Python 3"
    },
    "language_info": {
      "name": "python"
    }
  },
  "cells": [
    {
      "cell_type": "markdown",
      "metadata": {
        "id": "view-in-github",
        "colab_type": "text"
      },
      "source": [
        "<a href=\"https://colab.research.google.com/github/khiemchuong/baitaptailop/blob/main/BTVN_1.ipynb\" target=\"_parent\"><img src=\"https://colab.research.google.com/assets/colab-badge.svg\" alt=\"Open In Colab\"/></a>"
      ]
    },
    {
      "cell_type": "code",
      "execution_count": null,
      "metadata": {
        "colab": {
          "base_uri": "https://localhost:8080/"
        },
        "id": "geiiJPnavCLF",
        "outputId": "fde4e447-6b04-4517-d092-f1307854a375"
      },
      "outputs": [
        {
          "output_type": "stream",
          "name": "stdout",
          "text": [
            "[5 4 3 6 2 9 7]\n"
          ]
        }
      ],
      "source": [
        "#1\n",
        "import numpy as np\n",
        "_a=[5,4,3,6,2,9,7]\n",
        "a=np.array(_a)\n",
        "print(a)"
      ]
    },
    {
      "cell_type": "code",
      "source": [
        "#2\n",
        "import random\n",
        "b=[random.randint(-10,10) for i in range(0,30)]\n",
        "print(b)\n"
      ],
      "metadata": {
        "colab": {
          "base_uri": "https://localhost:8080/"
        },
        "id": "0nzGm6fW1jz5",
        "outputId": "c2235df8-c300-4956-eeb2-0da20dcc3b61"
      },
      "execution_count": null,
      "outputs": [
        {
          "output_type": "stream",
          "name": "stdout",
          "text": [
            "[-6, -4, -7, -5, 7, -6, 2, 4, 9, -9, 9, -9, 10, -10, 10, 1, -4, -7, 2, 6, 8, -2, 4, -10, 5, -7, -1, 0, -1, 10]\n"
          ]
        }
      ]
    },
    {
      "cell_type": "code",
      "source": [
        "#3\n",
        "import numpy as np\n",
        "c=[-5,7,6,9]\n",
        "e=np.random.choice(c, size=(30,))\n",
        "print(e)\n",
        "\n"
      ],
      "metadata": {
        "colab": {
          "base_uri": "https://localhost:8080/"
        },
        "id": "vkXdvUl-69O1",
        "outputId": "2e1a5dbb-f541-49cf-b2e5-2f93a21fe43c"
      },
      "execution_count": null,
      "outputs": [
        {
          "output_type": "stream",
          "name": "stdout",
          "text": [
            "[ 6  7  7  6 -5  9  6 -5  6 -5 -5  6  9 -5  7  7 -5  9  6  7  9 -5  7  6\n",
            "  6  7 -5 -5  7 -5]\n"
          ]
        }
      ]
    },
    {
      "cell_type": "code",
      "source": [
        "#4 \n",
        "import numpy as np\n",
        "import random\n",
        "x=int(input('x='))\n",
        "_r=[random.randint(1,20) for i in range(0,10)]\n",
        "r=np.array(_r)\n",
        "print(r)\n",
        "\n",
        "print('r*x:',r*x)\n"
      ],
      "metadata": {
        "colab": {
          "base_uri": "https://localhost:8080/"
        },
        "id": "lEk1xjwg9nG7",
        "outputId": "b8ce62cb-bb97-4a1c-ac05-9422e0248f8c"
      },
      "execution_count": null,
      "outputs": [
        {
          "output_type": "stream",
          "name": "stdout",
          "text": [
            "x=4\n",
            "[16 14 19  1 17  8 12  9 13 10]\n",
            "r*x: [64 56 76  4 68 32 48 36 52 40]\n"
          ]
        }
      ]
    },
    {
      "cell_type": "code",
      "source": [
        "#5\n",
        "import numpy as np \n",
        "import random\n",
        "_z=[random.randint(1,20) for i in range(0,15)]\n",
        "_x=[random.randint(1,20) for i in range(0,15)]\n",
        "z=np.array(_z)\n",
        "x=np.array(_x)\n",
        "print(z)\n",
        "print(x)\n",
        "print('x+z:',x+z)\n",
        "print('x-z:',x-z)"
      ],
      "metadata": {
        "colab": {
          "base_uri": "https://localhost:8080/"
        },
        "id": "2UvE6dP1PVPM",
        "outputId": "0e30016c-f59a-4ee1-8384-4e3b9bd6f218"
      },
      "execution_count": null,
      "outputs": [
        {
          "output_type": "stream",
          "name": "stdout",
          "text": [
            "[ 6 16 15  2 11 15  6 11 14 16 16  1  6 18 10]\n",
            "[17 19  6  4 12 12  1  7 10 10 18 10 17  6 18]\n",
            "x+z: [23 35 21  6 23 27  7 18 24 26 34 11 23 24 28]\n",
            "x-z: [ 11   3  -9   2   1  -3  -5  -4  -4  -6   2   9  11 -12   8]\n"
          ]
        }
      ]
    },
    {
      "cell_type": "code",
      "source": [
        "#6\n",
        "import numpy as np\n",
        "import random\n",
        "_v=[random.randint(1,20) for i in range(0,10)]\n",
        "_n=[random.randint(1,20) for i in range(0,10)]\n",
        "v=np.array(_v)\n",
        "n=np.array(_n)\n",
        "print(v)\n",
        "print(n)\n",
        "print('v*n',v*n)"
      ],
      "metadata": {
        "colab": {
          "base_uri": "https://localhost:8080/"
        },
        "id": "3lbvy2GETPTQ",
        "outputId": "f4d2b9bf-1188-45e3-8f24-21e0496bb965"
      },
      "execution_count": null,
      "outputs": [
        {
          "output_type": "stream",
          "name": "stdout",
          "text": [
            "[ 6  2  1  8  9 17  2 20  1 10]\n",
            "[ 6 12  9 16 13 13 20  4  9 15]\n",
            "v*n [ 36  24   9 128 117 221  40  80   9 150]\n"
          ]
        }
      ]
    },
    {
      "cell_type": "code",
      "source": [
        "#7\n",
        "import numpy as np\n",
        "import random\n",
        "from math import cos\n",
        "_m=[random.randint(1,20) for i in range(0,10)]\n",
        "_s=[random.randint(1,20) for i in range(0,10)]\n",
        "p=abs(int(input('p=')))\n",
        "i=0\n",
        "m=np.array(_m)\n",
        "s=np.array(_s)\n",
        "print(m)\n",
        "print(s)\n",
        "for i in range(1,p-1):\n",
        "  f=s*m\n",
        "\n",
        "\n",
        "print('f:',f)"
      ],
      "metadata": {
        "colab": {
          "base_uri": "https://localhost:8080/"
        },
        "id": "UNf3S3T6Vhb2",
        "outputId": "2dd71e4c-5670-4fdc-f763-9729cce605df"
      },
      "execution_count": null,
      "outputs": [
        {
          "output_type": "stream",
          "name": "stdout",
          "text": [
            "p=5\n",
            "[ 7 16  3  1  9  3  5  4 15  6]\n",
            "[13 16  7 13  6 11  3 10 12  7]\n",
            "f: [ 91 256  21  13  54  33  15  40 180  42]\n"
          ]
        }
      ]
    },
    {
      "cell_type": "code",
      "source": [
        "#8\n",
        "import numpy as np\n",
        "j=np.random.randint(0,5,size = (3,5))\n",
        "print('j:',j)\n",
        "print('j[2,3]:',j[2,3])"
      ],
      "metadata": {
        "colab": {
          "base_uri": "https://localhost:8080/"
        },
        "id": "KI72AOpVirYw",
        "outputId": "ae339bc4-b6bd-448e-9693-be6d94bf2cba"
      },
      "execution_count": null,
      "outputs": [
        {
          "output_type": "stream",
          "name": "stdout",
          "text": [
            "j: [[1 2 0 2 3]\n",
            " [1 4 2 2 3]\n",
            " [0 2 4 0 3]]\n",
            "j[2,3]: 0\n"
          ]
        }
      ]
    },
    {
      "cell_type": "code",
      "source": [
        "#9\n",
        "import numpy as np\n",
        "g=np.random.randint(0,5,size = (3,5))\n",
        "h=abs(int(input('h=')))\n",
        "print(g)\n",
        "print('g*h:',g*h)"
      ],
      "metadata": {
        "colab": {
          "base_uri": "https://localhost:8080/"
        },
        "id": "lNYCY3A-bWiX",
        "outputId": "b87398ec-a824-466b-f914-3c3eb8353a53"
      },
      "execution_count": null,
      "outputs": [
        {
          "output_type": "stream",
          "name": "stdout",
          "text": [
            "h=5\n",
            "[[0 4 0 3 4]\n",
            " [1 4 3 2 4]\n",
            " [0 3 4 3 3]]\n",
            "g*h: [[ 0 20  0 15 20]\n",
            " [ 5 20 15 10 20]\n",
            " [ 0 15 20 15 15]]\n"
          ]
        }
      ]
    },
    {
      "cell_type": "code",
      "source": [
        "#10\n",
        "import numpy as np \n",
        "k=np.random.randint(0,5,size = (3,5))\n",
        "print('k:',k)\n",
        "l=np.random.randint(0,5,size = (3,5))\n",
        "print('l:',l)\n",
        "print('k+l:',k+l)"
      ],
      "metadata": {
        "colab": {
          "base_uri": "https://localhost:8080/"
        },
        "id": "nmttXpdhlgNp",
        "outputId": "51aa7dee-3be4-43bd-de45-1c69445fbdb3"
      },
      "execution_count": null,
      "outputs": [
        {
          "output_type": "stream",
          "name": "stdout",
          "text": [
            "k: [[1 3 3 0 4]\n",
            " [4 2 3 0 1]\n",
            " [2 2 3 2 3]]\n",
            "l: [[3 0 3 4 4]\n",
            " [2 0 2 1 2]\n",
            " [1 1 1 1 0]]\n",
            "k+l: [[4 3 6 4 8]\n",
            " [6 2 5 1 3]\n",
            " [3 3 4 3 3]]\n"
          ]
        }
      ]
    },
    {
      "cell_type": "code",
      "source": [
        "#11\n",
        "import numpy as np\n",
        "q=np.random.randint(0,5,size = (3,4))\n",
        "print('q:',q)\n",
        "w=np.random.randint(0,5,size = (4,5))\n",
        "print('w:',w)\n",
        "\n",
        "r=q.dot(w)\n",
        "print('r:',r)"
      ],
      "metadata": {
        "colab": {
          "base_uri": "https://localhost:8080/"
        },
        "id": "MD11HP0zmgqe",
        "outputId": "c3b8aed0-e01f-4814-d6dd-ab940c6ee804"
      },
      "execution_count": null,
      "outputs": [
        {
          "output_type": "stream",
          "name": "stdout",
          "text": [
            "q: [[0 2 2 4]\n",
            " [0 4 1 4]\n",
            " [2 2 3 2]]\n",
            "w: [[3 4 3 0 3]\n",
            " [0 3 3 2 4]\n",
            " [0 1 1 1 4]\n",
            " [2 0 1 3 4]]\n",
            "r: [[ 8  8 12 18 32]\n",
            " [ 8 13 17 21 36]\n",
            " [10 17 17 13 34]]\n"
          ]
        }
      ]
    }
  ]
}