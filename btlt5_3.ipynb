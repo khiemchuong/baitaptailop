{
  "nbformat": 4,
  "nbformat_minor": 0,
  "metadata": {
    "colab": {
      "provenance": [],
      "authorship_tag": "ABX9TyNzidNGTnsM9f9Qwt4CSqLK",
      "include_colab_link": true
    },
    "kernelspec": {
      "name": "python3",
      "display_name": "Python 3"
    },
    "language_info": {
      "name": "python"
    }
  },
  "cells": [
    {
      "cell_type": "markdown",
      "metadata": {
        "id": "view-in-github",
        "colab_type": "text"
      },
      "source": [
        "<a href=\"https://colab.research.google.com/github/khiemchuong/baitaptailop/blob/main/btlt5_3.ipynb\" target=\"_parent\"><img src=\"https://colab.research.google.com/assets/colab-badge.svg\" alt=\"Open In Colab\"/></a>"
      ]
    },
    {
      "cell_type": "code",
      "execution_count": null,
      "metadata": {
        "id": "uFN1FTesqiFc"
      },
      "outputs": [],
      "source": [
        "A={'NNLT Python','Đại số tuyến tính','Tiếng Anh chuyên ngành','Thể dục'}\n",
        "B={'NNLT Python','Đại số tuyến tính','Tối ưu hóa','Học máy','Học sâu','computer vision','Natural language Processing','Recommender Systems'}"
      ]
    },
    {
      "cell_type": "code",
      "source": [
        "print(A)\n",
        "print(B)"
      ],
      "metadata": {
        "colab": {
          "base_uri": "https://localhost:8080/"
        },
        "id": "xaQ0imfbsGYn",
        "outputId": "02834a96-d520-47d9-ba92-878998dd7388"
      },
      "execution_count": null,
      "outputs": [
        {
          "output_type": "stream",
          "name": "stdout",
          "text": [
            "{'NNLT Python', 'Đại số tuyến tính', 'Tiếng Anh chuyên ngành', 'Thể dục'}\n",
            "{'Học sâu', 'Học máy', 'NNLT Python', 'Đại số tuyến tính', 'Recommender Systems', 'Natural language Processing', 'computer vision', 'Tối ưu hóa'}\n"
          ]
        }
      ]
    },
    {
      "cell_type": "code",
      "source": [
        "C=A.union(B)\n",
        "print(C)"
      ],
      "metadata": {
        "colab": {
          "base_uri": "https://localhost:8080/"
        },
        "id": "zrfOMRJSsQBn",
        "outputId": "b7a32289-c6e6-4c7d-ac88-1990eab7b1bc"
      },
      "execution_count": null,
      "outputs": [
        {
          "output_type": "stream",
          "name": "stdout",
          "text": [
            "{'Học sâu', 'Học máy', 'NNLT Python', 'Đại số tuyến tính', 'Tiếng Anh chuyên ngành', 'Recommender Systems', 'Natural language Processing', 'Thể dục', 'computer vision', 'Tối ưu hóa'}\n"
          ]
        }
      ]
    },
    {
      "cell_type": "code",
      "source": [
        "D=A.intersection(B)\n",
        "print(D)"
      ],
      "metadata": {
        "colab": {
          "base_uri": "https://localhost:8080/"
        },
        "id": "8vlkgBE0spvv",
        "outputId": "ce8d730d-0a4c-46bb-8d7b-16520f2585ed"
      },
      "execution_count": null,
      "outputs": [
        {
          "output_type": "stream",
          "name": "stdout",
          "text": [
            "{'NNLT Python', 'Đại số tuyến tính'}\n"
          ]
        }
      ]
    },
    {
      "cell_type": "code",
      "source": [
        "E=A.difference(B)\n",
        "print(E)"
      ],
      "metadata": {
        "colab": {
          "base_uri": "https://localhost:8080/"
        },
        "id": "nLwUKjEss183",
        "outputId": "a23ea6dd-3260-40b0-bb97-369972b3bd09"
      },
      "execution_count": null,
      "outputs": [
        {
          "output_type": "stream",
          "name": "stdout",
          "text": [
            "{'Tiếng Anh chuyên ngành', 'Thể dục'}\n"
          ]
        }
      ]
    },
    {
      "cell_type": "code",
      "source": [
        "F=B.difference(A)\n",
        "print(F)"
      ],
      "metadata": {
        "colab": {
          "base_uri": "https://localhost:8080/"
        },
        "id": "LHOsj-7otH4H",
        "outputId": "71a4cab3-95e7-4cd7-e53e-501872abd5ab"
      },
      "execution_count": null,
      "outputs": [
        {
          "output_type": "stream",
          "name": "stdout",
          "text": [
            "{'Học sâu', 'Học máy', 'Recommender Systems', 'Natural language Processing', 'computer vision', 'Tối ưu hóa'}\n"
          ]
        }
      ]
    },
    {
      "cell_type": "code",
      "source": [
        "x=[1,1,1,2,2,3,3,3,4,5,6,7]\n",
        "print(x)"
      ],
      "metadata": {
        "colab": {
          "base_uri": "https://localhost:8080/"
        },
        "id": "XiaVHdkztP53",
        "outputId": "33918a08-862c-47cc-c412-23d84d1be3b9"
      },
      "execution_count": null,
      "outputs": [
        {
          "output_type": "stream",
          "name": "stdout",
          "text": [
            "[1, 1, 1, 2, 2, 3, 3, 3, 4, 5, 6, 7]\n"
          ]
        }
      ]
    },
    {
      "cell_type": "code",
      "source": [
        "set(x)\n",
        "print(set(x))"
      ],
      "metadata": {
        "colab": {
          "base_uri": "https://localhost:8080/"
        },
        "id": "vjggTqDStd4n",
        "outputId": "1370937e-527e-4d87-d3e3-12ca23869fb9"
      },
      "execution_count": null,
      "outputs": [
        {
          "output_type": "stream",
          "name": "stdout",
          "text": [
            "{1, 2, 3, 4, 5, 6, 7}\n"
          ]
        }
      ]
    }
  ]
}